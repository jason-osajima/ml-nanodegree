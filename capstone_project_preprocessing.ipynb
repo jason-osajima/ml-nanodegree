{
 "cells": [
  {
   "cell_type": "markdown",
   "metadata": {},
   "source": [
    "Udacity Machine Learning Engineer Nanodegree Project 5 \n",
    "=============\n",
    "\n",
    "Deep Learning for Satellite Image Recognition\n",
    "-------------"
   ]
  },
  {
   "cell_type": "code",
   "execution_count": 20,
   "metadata": {
    "collapsed": true
   },
   "outputs": [],
   "source": [
    "# Modules to import for project\n",
    "from __future__ import print_function\n",
    "import matplotlib.pyplot as plt\n",
    "import matplotlib.image as mpimg\n",
    "import matplotlib.patches as mpatches\n",
    "import numpy as np\n",
    "import os\n",
    "import sys\n",
    "import tarfile\n",
    "import scipy.io as sio\n",
    "import random\n",
    "import pandas as pd\n",
    "import tensorflow as tf\n",
    "import time\n",
    "import cPickle as pickle\n",
    "import h5py\n",
    "from numpy import random\n",
    "from IPython.display import display, Image\n",
    "from scipy import ndimage\n",
    "from sklearn.linear_model import LogisticRegression\n",
    "from six.moves.urllib.request import urlretrieve\n",
    "from six.moves import cPickle as pickle\n",
    "from PIL import Image\n",
    "from sklearn.grid_search import GridSearchCV\n",
    "from sklearn.cross_validation import StratifiedShuffleSplit\n",
    "from sklearn.cross_validation import train_test_split\n",
    "\n",
    "# Config the matlotlib backend as plotting inline in IPython\n",
    "%matplotlib inline"
   ]
  },
  {
   "cell_type": "markdown",
   "metadata": {},
   "source": [
    "## 1. Exploring and Preparing the Data"
   ]
  },
  {
   "cell_type": "markdown",
   "metadata": {},
   "source": [
    "First, we will extract and investigate the images from the SAT-6 dataset. Information about the dataset is available here: \n",
    "    \n",
    "    http://csc.lsu.edu/~saikat/deepsat/ \n",
    "\n",
    "The dataset contains 405,000 satellite images, and is separated into 324,000 images for the training dataset and 81,000 for the testing dataset. We start by opening the mat file."
   ]
  },
  {
   "cell_type": "code",
   "execution_count": 2,
   "metadata": {
    "collapsed": false
   },
   "outputs": [
    {
     "name": "stdout",
     "output_type": "stream",
     "text": [
      "Current working directory contains 'sat-6-full.mat'\n",
      "SAT6 loaded successfully.\n"
     ]
    }
   ],
   "source": [
    "def open_mat(filename):\n",
    "    #opens the SAT6 dataset, which is a .mat file.\n",
    "    if os.path.isfile(filename): \n",
    "        print (\"Current working directory contains %r\" % filename)\n",
    "        mat_contents = sio.loadmat(filename)\n",
    "        print (\"SAT6 loaded successfully.\")\n",
    "    else:\n",
    "        print (\"Download %r to current working directory\" % filename)\n",
    "    return mat_contents\n",
    "\n",
    "mat_sat_6 = 'sat-6-full.mat'\n",
    "\n",
    "sat_6 = open_mat(mat_sat_6)"
   ]
  },
  {
   "cell_type": "markdown",
   "metadata": {},
   "source": [
    "Next, we will explore the dataset."
   ]
  },
  {
   "cell_type": "code",
   "execution_count": 3,
   "metadata": {
    "collapsed": false
   },
   "outputs": [
    {
     "name": "stdout",
     "output_type": "stream",
     "text": [
      "File is a <type 'dict'>, with keys 'train_x, train_y, __header__, __globals__, __version__, annotations, test_y, test_x'.\n",
      "'train_x' has dimensions (28, 28, 4, 324000)\n",
      "'train_y' has dimensions (6, 324000)\n",
      "'test_x' has dimensions (28, 28, 4, 81000)\n",
      "'test_y' has dimensions (6, 81000)\n",
      "[[array([u'100000'], \n",
      "      dtype='<U6')\n",
      "  array([u'building'], \n",
      "      dtype='<U8')]\n",
      " [array([u'010000'], \n",
      "      dtype='<U6')\n",
      "  array([u'barren land'], \n",
      "      dtype='<U11')]\n",
      " [array([u'001000'], \n",
      "      dtype='<U6')\n",
      "  array([u'trees'], \n",
      "      dtype='<U5')]\n",
      " [array([u'000100'], \n",
      "      dtype='<U6')\n",
      "  array([u'grassland'], \n",
      "      dtype='<U9')]\n",
      " [array([u'000010'], \n",
      "      dtype='<U6')\n",
      "  array([u'road'], \n",
      "      dtype='<U4')]\n",
      " [array([u'000001'], \n",
      "      dtype='<U6')\n",
      "  array([u'water'], \n",
      "      dtype='<U5')]]\n"
     ]
    }
   ],
   "source": [
    "def investigate_dict(a, b):\n",
    "    keys_list = a.keys()\n",
    "    keys_str = ', '.join(keys_list)\n",
    "    lst = []\n",
    "    print(\"File is a %r, with keys %r.\" % (type(a), keys_str))\n",
    "    for k in b:\n",
    "        array = a.get(k)\n",
    "        print('%r has dimensions %r' % (k, array.shape))\n",
    "        lst.append(array)\n",
    "    return lst\n",
    "\n",
    "sets = ['train_x', 'train_y', 'test_x', 'test_y']\n",
    "\n",
    "raw_x_train, raw_y_train, raw_x_test, raw_y_test = investigate_dict(sat_6, sets)\n",
    "print(sat_6['annotations'])"
   ]
  },
  {
   "cell_type": "markdown",
   "metadata": {},
   "source": [
    "There are 324,000 training images and 81,000 testing images. Each image is 28x28, meaning each picture has 784 pixels. Each image also has 4 layers (Red, Green, Blue and Near-Infared), and is labeled with a binary vector. The vector has 6 elements and each element corresponds with the six classes the image could belong to (buildings, barren land, trees, roads, buildings and water bodies). \n",
    "\n",
    "Let's change the dimensions of the array so that the image index is the first dimension, the type of layer is the second, and the pixels are the third. This will make it simpler to use."
   ]
  },
  {
   "cell_type": "code",
   "execution_count": 4,
   "metadata": {
    "collapsed": false
   },
   "outputs": [
    {
     "name": "stdout",
     "output_type": "stream",
     "text": [
      "(324000, 4, 28, 28)\n",
      "(324000, 6)\n",
      "(81000, 4, 28, 28)\n",
      "(81000, 6)\n"
     ]
    }
   ],
   "source": [
    "def change_dim(a):\n",
    "    lst = []\n",
    "    \n",
    "    for i in a:\n",
    "        \n",
    "        if len(i.shape) == 4:\n",
    "            i_2 = np.rollaxis(i, 3)\n",
    "            i_3 = np.rollaxis(i_2, 3, start = 1)\n",
    "            lst.append(i_3)\n",
    "        \n",
    "        elif len(i.shape) == 2:\n",
    "            i_4 = np.rollaxis(i, 1)\n",
    "            lst.append(i_4)\n",
    "        \n",
    "        else:\n",
    "            print('Dimensions of arrays do not work')\n",
    "    \n",
    "    return lst\n",
    "\n",
    "\n",
    "raw = [raw_x_train, raw_y_train, raw_x_test, raw_y_test]\n",
    "\n",
    "switch_x_train, switch_y_train, switch_x_test, switch_y_test = change_dim(raw)\n",
    "\n",
    "print(switch_x_train.shape)\n",
    "print(switch_y_train.shape)\n",
    "print(switch_x_test.shape)\n",
    "print(switch_y_test.shape)"
   ]
  },
  {
   "cell_type": "markdown",
   "metadata": {},
   "source": [
    "Let's view a sample of the images and their corresponding labels."
   ]
  },
  {
   "cell_type": "code",
   "execution_count": 5,
   "metadata": {
    "collapsed": false
   },
   "outputs": [
    {
     "data": {
      "image/png": "[encoded data removed]",
      "text/plain": [
       "<PIL.Image.Image image mode=RGB size=48x48 at 0x10218FED0>"
      ]
     },
     "metadata": {},
     "output_type": "display_data"
    },
    {
     "name": "stdout",
     "output_type": "stream",
     "text": [
      "water_bodies\n"
     ]
    },
    {
     "data": {
      "image/png": "[encoded data removed]",
      "text/plain": [
       "<PIL.Image.Image image mode=RGB size=48x48 at 0x11F629DD0>"
      ]
     },
     "metadata": {},
     "output_type": "display_data"
    },
    {
     "name": "stdout",
     "output_type": "stream",
     "text": [
      "water_bodies\n"
     ]
    },
    {
     "data": {
      "image/png": "[encoded data removed]",
      "text/plain": [
       "<PIL.Image.Image image mode=RGB size=48x48 at 0x11F63BB50>"
      ]
     },
     "metadata": {},
     "output_type": "display_data"
    },
    {
     "name": "stdout",
     "output_type": "stream",
     "text": [
      "barren_land\n"
     ]
    },
    {
     "data": {
      "image/png": "[encoded data removed]",
      "text/plain": [
       "<PIL.Image.Image image mode=RGB size=48x48 at 0x11F629DD0>"
      ]
     },
     "metadata": {},
     "output_type": "display_data"
    },
    {
     "name": "stdout",
     "output_type": "stream",
     "text": [
      "water_bodies\n"
     ]
    },
    {
     "data": {
      "image/png": "[encoded data removed]",
      "text/plain": [
       "<PIL.Image.Image image mode=RGB size=48x48 at 0x104D0A310>"
      ]
     },
     "metadata": {},
     "output_type": "display_data"
    },
    {
     "name": "stdout",
     "output_type": "stream",
     "text": [
      "trees\n"
     ]
    },
    {
     "data": {
      "image/png": "[encoded data removed]",
      "text/plain": [
       "<PIL.Image.Image image mode=RGB size=48x48 at 0x11F629DD0>"
      ]
     },
     "metadata": {},
     "output_type": "display_data"
    },
    {
     "name": "stdout",
     "output_type": "stream",
     "text": [
      "barren_land\n"
     ]
    },
    {
     "data": {
      "image/png": "[encoded data removed]",
      "text/plain": [
       "<PIL.Image.Image image mode=RGB size=48x48 at 0x11F63BB50>"
      ]
     },
     "metadata": {},
     "output_type": "display_data"
    },
    {
     "name": "stdout",
     "output_type": "stream",
     "text": [
      "barren_land\n"
     ]
    },
    {
     "data": {
      "image/png": "[encoded data removed]",
      "text/plain": [
       "<PIL.Image.Image image mode=RGB size=48x48 at 0x11F629DD0>"
      ]
     },
     "metadata": {},
     "output_type": "display_data"
    },
    {
     "name": "stdout",
     "output_type": "stream",
     "text": [
      "barren_land\n"
     ]
    },
    {
     "data": {
      "image/png": "[encoded data removed]",
      "text/plain": [
       "<PIL.Image.Image image mode=RGB size=48x48 at 0x104D0A310>"
      ]
     },
     "metadata": {},
     "output_type": "display_data"
    },
    {
     "name": "stdout",
     "output_type": "stream",
     "text": [
      "water_bodies\n"
     ]
    },
    {
     "data": {
      "image/png": "[encoded data removed]",
      "text/plain": [
       "<PIL.Image.Image image mode=RGB size=48x48 at 0x11F629DD0>"
      ]
     },
     "metadata": {},
     "output_type": "display_data"
    },
    {
     "name": "stdout",
     "output_type": "stream",
     "text": [
      "water_bodies\n"
     ]
    },
    {
     "data": {
      "image/png": "[encoded data removed]",
      "text/plain": [
       "<PIL.Image.Image image mode=RGB size=48x48 at 0x11F63BB50>"
      ]
     },
     "metadata": {},
     "output_type": "display_data"
    },
    {
     "name": "stdout",
     "output_type": "stream",
     "text": [
      "water_bodies\n"
     ]
    },
    {
     "data": {
      "image/png": "[encoded data removed]",
      "text/plain": [
       "<PIL.Image.Image image mode=RGB size=48x48 at 0x11F629DD0>"
      ]
     },
     "metadata": {},
     "output_type": "display_data"
    },
    {
     "name": "stdout",
     "output_type": "stream",
     "text": [
      "water_bodies\n"
     ]
    },
    {
     "data": {
      "image/png": "[encoded data removed]",
      "text/plain": [
       "<PIL.Image.Image image mode=RGB size=48x48 at 0x104D0A310>"
      ]
     },
     "metadata": {},
     "output_type": "display_data"
    },
    {
     "name": "stdout",
     "output_type": "stream",
     "text": [
      "water_bodies\n"
     ]
    },
    {
     "data": {
      "image/png": "[encoded data removed]",
      "text/plain": [
       "<PIL.Image.Image image mode=RGB size=48x48 at 0x11F629DD0>"
      ]
     },
     "metadata": {},
     "output_type": "display_data"
    },
    {
     "name": "stdout",
     "output_type": "stream",
     "text": [
      "barren_land\n"
     ]
    },
    {
     "data": {
      "image/png": "[encoded data removed]",
      "text/plain": [
       "<PIL.Image.Image image mode=RGB size=48x48 at 0x11F63BB50>"
      ]
     },
     "metadata": {},
     "output_type": "display_data"
    },
    {
     "name": "stdout",
     "output_type": "stream",
     "text": [
      "grassland\n"
     ]
    },
    {
     "data": {
      "image/png": "[encoded data removed]",
      "text/plain": [
       "<PIL.Image.Image image mode=RGB size=48x48 at 0x10218FF90>"
      ]
     },
     "metadata": {},
     "output_type": "display_data"
    },
    {
     "name": "stdout",
     "output_type": "stream",
     "text": [
      "water_bodies\n"
     ]
    },
    {
     "data": {
      "image/png": "[encoded data removed]",
      "text/plain": [
       "<PIL.Image.Image image mode=RGB size=48x48 at 0x11F63BB50>"
      ]
     },
     "metadata": {},
     "output_type": "display_data"
    },
    {
     "name": "stdout",
     "output_type": "stream",
     "text": [
      "water_bodies\n"
     ]
    },
    {
     "data": {
      "image/png": "[encoded data removed]",
      "text/plain": [
       "<PIL.Image.Image image mode=RGB size=48x48 at 0x10218FF10>"
      ]
     },
     "metadata": {},
     "output_type": "display_data"
    },
    {
     "name": "stdout",
     "output_type": "stream",
     "text": [
      "trees\n"
     ]
    },
    {
     "data": {
      "image/png": "[encoded data removed]",
      "text/plain": [
       "<PIL.Image.Image image mode=RGB size=48x48 at 0x10218FED0>"
      ]
     },
     "metadata": {},
     "output_type": "display_data"
    },
    {
     "name": "stdout",
     "output_type": "stream",
     "text": [
      "trees\n"
     ]
    },
    {
     "data": {
      "image/png": "[encoded data removed]",
      "text/plain": [
       "<PIL.Image.Image image mode=RGB size=48x48 at 0x10218FF10>"
      ]
     },
     "metadata": {},
     "output_type": "display_data"
    },
    {
     "name": "stdout",
     "output_type": "stream",
     "text": [
      "grassland\n"
     ]
    },
    {
     "data": {
      "image/png": "[encoded data removed]",
      "text/plain": [
       "<PIL.Image.Image image mode=RGB size=48x48 at 0x104D0A310>"
      ]
     },
     "metadata": {},
     "output_type": "display_data"
    },
    {
     "name": "stdout",
     "output_type": "stream",
     "text": [
      "barren_land\n"
     ]
    },
    {
     "data": {
      "image/png": "[encoded data removed]",
      "text/plain": [
       "<PIL.Image.Image image mode=RGB size=48x48 at 0x10218FF90>"
      ]
     },
     "metadata": {},
     "output_type": "display_data"
    },
    {
     "name": "stdout",
     "output_type": "stream",
     "text": [
      "trees\n"
     ]
    },
    {
     "data": {
      "image/png": "[encoded data removed]",
      "text/plain": [
       "<PIL.Image.Image image mode=RGB size=48x48 at 0x104D0A310>"
      ]
     },
     "metadata": {},
     "output_type": "display_data"
    },
    {
     "name": "stdout",
     "output_type": "stream",
     "text": [
      "barren_land\n"
     ]
    },
    {
     "data": {
      "image/png": "[encoded data removed]",
      "text/plain": [
       "<PIL.Image.Image image mode=RGB size=48x48 at 0x11F63BB50>"
      ]
     },
     "metadata": {},
     "output_type": "display_data"
    },
    {
     "name": "stdout",
     "output_type": "stream",
     "text": [
      "water_bodies\n"
     ]
    },
    {
     "data": {
      "image/png": "[encoded data removed]",
      "text/plain": [
       "<PIL.Image.Image image mode=RGB size=48x48 at 0x104D0A310>"
      ]
     },
     "metadata": {},
     "output_type": "display_data"
    },
    {
     "name": "stdout",
     "output_type": "stream",
     "text": [
      "trees\n"
     ]
    },
    {
     "data": {
      "image/png": "[encoded data removed]",
      "text/plain": [
       "<PIL.Image.Image image mode=RGB size=48x48 at 0x11F629DD0>"
      ]
     },
     "metadata": {},
     "output_type": "display_data"
    },
    {
     "name": "stdout",
     "output_type": "stream",
     "text": [
      "water_bodies\n"
     ]
    },
    {
     "data": {
      "image/png": "[encoded data removed]",
      "text/plain": [
       "<PIL.Image.Image image mode=RGB size=48x48 at 0x104D0A310>"
      ]
     },
     "metadata": {},
     "output_type": "display_data"
    },
    {
     "name": "stdout",
     "output_type": "stream",
     "text": [
      "grassland\n"
     ]
    },
    {
     "data": {
      "image/png": "[encoded data removed]",
      "text/plain": [
       "<PIL.Image.Image image mode=RGB size=48x48 at 0x11F63BB50>"
      ]
     },
     "metadata": {},
     "output_type": "display_data"
    },
    {
     "name": "stdout",
     "output_type": "stream",
     "text": [
      "water_bodies\n"
     ]
    },
    {
     "data": {
      "image/png": "[encoded data removed]",
      "text/plain": [
       "<PIL.Image.Image image mode=RGB size=48x48 at 0x104D0A310>"
      ]
     },
     "metadata": {},
     "output_type": "display_data"
    },
    {
     "name": "stdout",
     "output_type": "stream",
     "text": [
      "barren_land\n"
     ]
    },
    {
     "data": {
      "image/png": "[encoded data removed]",
      "text/plain": [
       "<PIL.Image.Image image mode=RGB size=48x48 at 0x11F629DD0>"
      ]
     },
     "metadata": {},
     "output_type": "display_data"
    },
    {
     "name": "stdout",
     "output_type": "stream",
     "text": [
      "water_bodies\n"
     ]
    }
   ],
   "source": [
    "def sample_images(labels, x_data, y_data, n):\n",
    "    \n",
    "    \n",
    "    for i in range(n):\n",
    "        r = np.random.choice(len(x_data))\n",
    "        #Create an rgb array\n",
    "        rgbArray = np.zeros((28,28,3), 'uint8')\n",
    "        rgbArray[..., 0] = x_data[r,0,...]\n",
    "        rgbArray[..., 1] = x_data[r,1,...]\n",
    "        rgbArray[..., 2] = x_data[r,2,...]\n",
    "        img = Image.fromarray(rgbArray)\n",
    "        out = img.resize((48, 48))\n",
    "        display(out)\n",
    "\n",
    "        #returns the index of 1 from the label array\n",
    "        label_index = y_data[r].tolist().index(1)\n",
    "        print(labels[label_index])\n",
    "\n",
    "land_cover = ['buildings', 'barren_land', 'trees', 'grassland', 'roads', 'water_bodies']\n",
    "\n",
    "sample_images(land_cover, switch_x_train, switch_y_train, 30)"
   ]
  },
  {
   "cell_type": "markdown",
   "metadata": {},
   "source": [
    "Next, we will divide our dataset into training, testing, and cross validation sets. Currently,  80% of the dataset is reserved for training, and 20% of the dataset is reserved for testing. To prevent bias, we will concatenate the training and test sets "
   ]
  },
  {
   "cell_type": "code",
   "execution_count": 6,
   "metadata": {
    "collapsed": false
   },
   "outputs": [
    {
     "data": {
      "image/png": "[encoded data removed]",
      "text/plain": [
       "<PIL.Image.Image image mode=RGB size=48x48 at 0x104D29610>"
      ]
     },
     "metadata": {},
     "output_type": "display_data"
    },
    {
     "name": "stdout",
     "output_type": "stream",
     "text": [
      "trees\n"
     ]
    },
    {
     "data": {
      "image/png": "[encoded data removed]",
      "text/plain": [
       "<PIL.Image.Image image mode=RGB size=48x48 at 0x11F63BD50>"
      ]
     },
     "metadata": {},
     "output_type": "display_data"
    },
    {
     "name": "stdout",
     "output_type": "stream",
     "text": [
      "water_bodies\n"
     ]
    },
    {
     "data": {
      "image/png": "[encoded data removed]",
      "text/plain": [
       "<PIL.Image.Image image mode=RGB size=48x48 at 0x104D29F90>"
      ]
     },
     "metadata": {},
     "output_type": "display_data"
    },
    {
     "name": "stdout",
     "output_type": "stream",
     "text": [
      "water_bodies\n"
     ]
    },
    {
     "data": {
      "image/png": "[encoded data removed]",
      "text/plain": [
       "<PIL.Image.Image image mode=RGB size=48x48 at 0x104D29950>"
      ]
     },
     "metadata": {},
     "output_type": "display_data"
    },
    {
     "name": "stdout",
     "output_type": "stream",
     "text": [
      "water_bodies\n"
     ]
    },
    {
     "data": {
      "image/png": "[encoded data removed]",
      "text/plain": [
       "<PIL.Image.Image image mode=RGB size=48x48 at 0x11F63BD50>"
      ]
     },
     "metadata": {},
     "output_type": "display_data"
    },
    {
     "name": "stdout",
     "output_type": "stream",
     "text": [
      "grassland\n"
     ]
    }
   ],
   "source": [
    "#Combine original train and test set together.\n",
    "X_all = np.concatenate((switch_x_train, switch_x_test), axis=0)\n",
    "y_all = np.concatenate((switch_y_train, switch_y_test), axis = 0)\n",
    "\n",
    "#Shuffle the data\n",
    "perm = random.permutation(len(X_all))\n",
    "X_all_shuffled = X_all[perm]\n",
    "y_all_shuffled = y_all[perm]\n",
    "\n",
    "#Verify that the labels and images are still correct\n",
    "sample_images(land_cover, X_all_shuffled, y_all_shuffled, 5)"
   ]
  },
  {
   "cell_type": "markdown",
   "metadata": {},
   "source": [
    "It seems that the image and label pairs have been maintained after shuffling. Since it would be computationally expensive to use k-fold cross validation to train a deep learning architecture with a large amount of training examples, we will create a simple, hold-out cross validation set as well as a training and test set."
   ]
  },
  {
   "cell_type": "code",
   "execution_count": 7,
   "metadata": {
    "collapsed": false
   },
   "outputs": [
    {
     "name": "stdout",
     "output_type": "stream",
     "text": [
      "'X_train' has dimensions (243000, 4, 28, 28)\n",
      "'y_train' has dimensions (243000, 6)\n",
      "'X_valid' has dimensions (81000, 4, 28, 28)\n",
      "'y_valid' has dimensions (81000, 6)\n",
      "'X_test' has dimensions (81000, 4, 28, 28)\n",
      "'y_test' has dimensions (81000, 6)\n"
     ]
    }
   ],
   "source": [
    "#Separate dataset into training, cross-validation, and testing sets.\n",
    "def split_data(X, y, training_size, CV_size, test_size):\n",
    "    X_train = X[0:training_size,...]\n",
    "    y_train = y[0:training_size,...]\n",
    "    X_valid = X[training_size:(training_size + CV_size),...]\n",
    "    y_valid = y[training_size:(training_size + CV_size),...]\n",
    "    X_test = X[(training_size + CV_size):len(X),...]\n",
    "    y_test = y[(training_size + CV_size):len(X),...]\n",
    "    return X_train, y_train, X_valid, y_valid, X_test, y_test\n",
    "    \n",
    "X_train, y_train, X_valid, y_valid, X_test, y_test = split_data(X_all_shuffled, y_all_shuffled, 243000, 81000, 81000)\n",
    "\n",
    "#Verify that the dimensions of the array are correct.\n",
    "sets = [X_train, y_train, X_valid, y_valid, X_test, y_test]\n",
    "sets_str = ['X_train', 'y_train', 'X_valid', 'y_valid', 'X_test', 'y_test']\n",
    "\n",
    "for n in range(6):\n",
    "    print('%r has dimensions %r' % (sets_str[n], sets[n].shape))"
   ]
  },
  {
   "cell_type": "markdown",
   "metadata": {},
   "source": [
    "Let's check to see that the data is balanced across sets."
   ]
  },
  {
   "cell_type": "code",
   "execution_count": 9,
   "metadata": {
    "collapsed": false
   },
   "outputs": [
    {
     "name": "stdout",
     "output_type": "stream",
     "text": [
      "'y_all' has [18637, 91764, 70994, 62943, 10262, 150400] for land_cover classes\n",
      "'y_train' has [11262, 55171, 42518, 37802, 6208, 90039] for land_cover classes\n",
      "'y_valid' has [3668, 18208, 14210, 12595, 2078, 30241] for land_cover classes\n",
      "'y_test' has [3707, 18385, 14266, 12546, 1976, 30120] for land_cover classes\n"
     ]
    },
    {
     "data": {
      "image/png": "[encoded data removed]",
      "text/plain": [
       "<matplotlib.figure.Figure at 0x1066a2ad0>"
      ]
     },
     "metadata": {},
     "output_type": "display_data"
    },
    {
     "data": {
      "image/png": "[encoded data removed]",
      "text/plain": [
       "<matplotlib.figure.Figure at 0x11f6299d0>"
      ]
     },
     "metadata": {},
     "output_type": "display_data"
    },
    {
     "data": {
      "image/png": "[encoded data removed]",
      "text/plain": [
       "<matplotlib.figure.Figure at 0x16b3a41d0>"
      ]
     },
     "metadata": {},
     "output_type": "display_data"
    },
    {
     "data": {
      "image/png": "[encoded data removed]",
      "text/plain": [
       "<matplotlib.figure.Figure at 0x16b539750>"
      ]
     },
     "metadata": {},
     "output_type": "display_data"
    }
   ],
   "source": [
    "labels = [y_all, y_train, y_valid, y_test]\n",
    "str_labels = ['y_all', 'y_train', 'y_valid', 'y_test']\n",
    "\n",
    "for i in range(len(labels)):\n",
    "    total = []\n",
    "    count = [0]*len(land_cover)\n",
    "    for j in range(len(labels[i])):\n",
    "        count = [x + y for x, y in zip(count, labels[i][j])]\n",
    "    \n",
    "    print('%r has %r for land_cover classes' % (str_labels[i], count))\n",
    "    \n",
    "    ind = np.arange(6)\n",
    "    width = 0.35\n",
    "    fig, ax = plt.subplots()\n",
    "    rects1 = ax.bar(ind, count, width, color='r')\n",
    "    ax.set_ylabel('Number of examples')\n",
    "    ax.set_title('Number of examples for each land_cover')\n",
    "    ax.set_xticks(ind + width)\n",
    "    ax.set_xticklabels(land_cover)"
   ]
  },
  {
   "cell_type": "markdown",
   "metadata": {},
   "source": [
    "By visual inspection, the data looks balanced across sets which makes sense, since we have a large amount of examples and by the law of large numbers(4), the distribution of each sample of the dataset will start to represent the distribution of the dataset.\n",
    "\n",
    "While the data is balanced across sets (training, validation, and testing) the data is not balanced across classes within each set. This is not necessarily bad, since the distribution of the classes reflects the distribution of land cover types that a classifier trained on this data will see."
   ]
  },
  {
   "cell_type": "markdown",
   "metadata": {},
   "source": [
    "Next, we will convert each example into a flat matrix, which will make it more adaptive to our models."
   ]
  },
  {
   "cell_type": "code",
   "execution_count": 10,
   "metadata": {
    "collapsed": false
   },
   "outputs": [
    {
     "name": "stdout",
     "output_type": "stream",
     "text": [
      "Training set (243000, 3136)\n",
      "Validation set (81000, 3136)\n",
      "Test set (81000, 3136)\n"
     ]
    }
   ],
   "source": [
    "image_size = 28\n",
    "color_layers = 4\n",
    "\n",
    "def reformat(dataset):\n",
    "  dataset = dataset.reshape((len(dataset), image_size * image_size * color_layers)).astype(np.float32)\n",
    "  return dataset\n",
    "X_train = reformat(X_train)\n",
    "X_valid = reformat(X_valid)\n",
    "X_test = reformat(X_test)\n",
    "print ('Training set', X_train.shape)\n",
    "print ('Validation set', X_valid.shape)\n",
    "print ('Test set', X_test.shape)"
   ]
  },
  {
   "cell_type": "markdown",
   "metadata": {},
   "source": [
    "When executing numerical computations, we have to be concerned about calculating values that are too large or too small, which can introduce error into our calculations. In order to avoid error, we want our mean to be equal to zero and our variances to be equal across variables. Our dataset includes the pixel values of four layers (Red, Green, Blue, and Near-Infared) with values between 0 and 255. We can normalize the values, which will convert each pixel value to a value between -1 and 1."
   ]
  },
  {
   "cell_type": "code",
   "execution_count": 11,
   "metadata": {
    "collapsed": false
   },
   "outputs": [
    {
     "name": "stdout",
     "output_type": "stream",
     "text": [
      "Training set (243000, 3136)\n",
      "Validation set (81000, 3136)\n",
      "Test set (81000, 3136)\n"
     ]
    }
   ],
   "source": [
    "mean = 128\n",
    "\n",
    "def normalize(dataset):\n",
    "    z = np.ones(dataset.shape)*128\n",
    "    a = (dataset-z)/z\n",
    "    return np.float32(a)\n",
    "X_train_norm = normalize(X_train)\n",
    "X_valid_norm = normalize(X_valid)\n",
    "X_test_norm = normalize(X_test)\n",
    "print ('Training set', X_train.shape)\n",
    "print ('Validation set', X_valid.shape)\n",
    "print ('Test set', X_test.shape)"
   ]
  },
  {
   "cell_type": "markdown",
   "metadata": {},
   "source": [
    "Let's take a random example from each set and verify that the pixel values are normalized."
   ]
  },
  {
   "cell_type": "code",
   "execution_count": 12,
   "metadata": {
    "collapsed": false
   },
   "outputs": [
    {
     "name": "stdout",
     "output_type": "stream",
     "text": [
      "[-0.5078125 -0.3359375 -0.25      ...,  0.1171875  0.1875     0.25     ]\n",
      "[ 0.1875    -0.375     -0.6484375 ...,  0.296875   0.2890625  0.2890625]\n",
      "[ 0.625      0.6328125  0.625     ..., -0.3125    -0.328125  -0.3046875]\n"
     ]
    }
   ],
   "source": [
    "print(X_train_norm[0])\n",
    "print(X_valid_norm[0])\n",
    "print(X_test_norm[0])"
   ]
  },
  {
   "cell_type": "markdown",
   "metadata": {},
   "source": [
    "Now that our data is preprocessed, let's download them as h5f files for later use."
   ]
  },
  {
   "cell_type": "code",
   "execution_count": null,
   "metadata": {
    "collapsed": false
   },
   "outputs": [],
   "source": [
    "Xy_set = ['X_train', 'y-train', 'X_test', 'y_test', 'X_valid', 'y_valid']\n",
    "Xy_norm_set = [X_train_norm, y_train, X_test_norm, y_test, X_valid_norm, y_valid]\n",
    "\n",
    "\n",
    "h5f = h5py.File('sat-6.h5', 'w')\n",
    "for i in range(len(Xy_set)):\n",
    "    h5f.create_dataset(Xy_set[i], data=Xy_norm_set[i])\n",
    "    print(Xy_set[i] + 'successfully written to sat-6.h5')\n",
    "\n",
    "h5f.close()"
   ]
  },
  {
   "cell_type": "code",
   "execution_count": null,
   "metadata": {
    "collapsed": true
   },
   "outputs": [],
   "source": []
  }
 ],
 "metadata": {
  "kernelspec": {
   "display_name": "Python 2",
   "language": "python",
   "name": "python2"
  },
  "language_info": {
   "codemirror_mode": {
    "name": "ipython",
    "version": 2
   },
   "file_extension": ".py",
   "mimetype": "text/x-python",
   "name": "python",
   "nbconvert_exporter": "python",
   "pygments_lexer": "ipython2",
   "version": "2.7.11"
  }
 },
 "nbformat": 4,
 "nbformat_minor": 0
}
